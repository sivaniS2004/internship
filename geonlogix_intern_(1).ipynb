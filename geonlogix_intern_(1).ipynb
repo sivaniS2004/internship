{
  "nbformat": 4,
  "nbformat_minor": 0,
  "metadata": {
    "colab": {
      "provenance": []
    },
    "kernelspec": {
      "name": "python3",
      "display_name": "Python 3"
    },
    "language_info": {
      "name": "python"
    }
  },
  "cells": [
    {
      "cell_type": "code",
      "execution_count": null,
      "metadata": {
        "colab": {
          "base_uri": "https://localhost:8080/"
        },
        "id": "_cNKfkOVtdgm",
        "outputId": "ec7ee406-e21d-47c1-8259-6585751a3229"
      },
      "outputs": [
        {
          "output_type": "stream",
          "name": "stdout",
          "text": [
            "Single-Dimensional Array: [1 2 3 4 5]\n",
            "Multi-Dimensional Array (2D):\n",
            " [[1 2 3]\n",
            " [4 5 6]\n",
            " [7 8 9]]\n"
          ]
        }
      ],
      "source": [
        "import numpy as np\n",
        "\n",
        "single_dim_list = [1, 2, 3, 4, 5]\n",
        "single_dim_array = np.array(single_dim_list)\n",
        "print(\"Single-Dimensional Array:\", single_dim_array)\n",
        "\n",
        "multi_dim_list = [[1, 2, 3], [4, 5, 6], [7, 8, 9]]\n",
        "multi_dim_array = np.array(multi_dim_list)\n",
        "print(\"Multi-Dimensional Array (2D):\\n\", multi_dim_array)\n"
      ]
    },
    {
      "cell_type": "code",
      "source": [
        "import numpy as np\n",
        "arange_array = np.arange(10)\n",
        "print(\"Array using arange:\", arange_array)\n",
        "zeros_array = np.zeros(5)\n",
        "print(\"Array of zeros:\", zeros_array)\n",
        "full_array = np.full(5, 7)\n",
        "print(\"Array filled with 7:\", full_array)\n"
      ],
      "metadata": {
        "colab": {
          "base_uri": "https://localhost:8080/"
        },
        "id": "6v27kMqDvpYh",
        "outputId": "95a33e9b-88df-446e-9d39-d3253a212554"
      },
      "execution_count": null,
      "outputs": [
        {
          "output_type": "stream",
          "name": "stdout",
          "text": [
            "Array using arange: [0 1 2 3 4 5 6 7 8 9]\n",
            "Array of zeros: [0. 0. 0. 0. 0.]\n",
            "Array filled with 7: [7 7 7 7 7]\n"
          ]
        }
      ]
    },
    {
      "cell_type": "code",
      "source": [
        "import numpy as np\n",
        "\n",
        "random_array_1d = np.random.randint(0, 10, 5)\n",
        "print(\"1D Array of random integers:\", random_array_1d)\n",
        "\n",
        "random_array_2d = np.random.randint(0, 10, (3, 4))\n",
        "print(\"2D Array of random integers:\\n\", random_array_2d)\n",
        "\n",
        "random_array_3d = np.random.randint(0, 10, (2, 3, 4))\n",
        "print(\"3D Array of random integers:\\n\", random_array_3d)\n"
      ],
      "metadata": {
        "colab": {
          "base_uri": "https://localhost:8080/"
        },
        "id": "2a89xZeBx91r",
        "outputId": "9be9c8ec-6f7a-40fb-a39e-614207997d5a"
      },
      "execution_count": null,
      "outputs": [
        {
          "output_type": "stream",
          "name": "stdout",
          "text": [
            "1D Array of random integers: [3 5 1 3 4]\n",
            "2D Array of random integers:\n",
            " [[1 3 9 2]\n",
            " [4 4 6 1]\n",
            " [5 4 5 2]]\n",
            "3D Array of random integers:\n",
            " [[[5 1 5 5]\n",
            "  [8 9 6 9]\n",
            "  [2 8 9 0]]\n",
            "\n",
            " [[3 7 5 2]\n",
            "  [2 4 9 5]\n",
            "  [7 5 2 6]]]\n"
          ]
        }
      ]
    },
    {
      "cell_type": "code",
      "source": [
        "import numpy as np\n",
        "array1 = np.array([1, 2, 3])\n",
        "array2 = np.array([4, 5, 6])\n",
        "vstack_array = np.vstack((array1, array2))\n",
        "print(\"Vertical Stack:\\n\", vstack_array)\n",
        "hstack_array = np.hstack((array1, array2))\n",
        "print(\"Horizontal Stack:\\n\", hstack_array)\n"
      ],
      "metadata": {
        "colab": {
          "base_uri": "https://localhost:8080/"
        },
        "id": "Ws0Y9K4Y1LmV",
        "outputId": "ceaffc91-b8e8-47df-b65a-836f6b6a823b"
      },
      "execution_count": null,
      "outputs": [
        {
          "output_type": "stream",
          "name": "stdout",
          "text": [
            "Vertical Stack:\n",
            " [[1 2 3]\n",
            " [4 5 6]]\n",
            "Horizontal Stack:\n",
            " [1 2 3 4 5 6]\n"
          ]
        }
      ]
    },
    {
      "cell_type": "code",
      "source": [
        "import numpy as np\n",
        "data = np.array([1, 2, 3, 4, 5, 6, 7, 8, 9, 10])\n",
        "mean_value = np.mean(data)\n",
        "print(\"Mean:\", mean_value)\n",
        "median_value = np.median(data)\n",
        "print(\"Median:\", median_value)\n",
        "std_deviation = np.std(data)\n",
        "print(\"Standard Deviation:\", std_deviation)\n"
      ],
      "metadata": {
        "colab": {
          "base_uri": "https://localhost:8080/"
        },
        "id": "IrYYoJPU2rBF",
        "outputId": "0b174589-642f-4448-9193-72678e425d4c"
      },
      "execution_count": null,
      "outputs": [
        {
          "output_type": "stream",
          "name": "stdout",
          "text": [
            "Mean: 5.5\n",
            "Median: 5.5\n",
            "Standard Deviation: 2.8722813232690143\n"
          ]
        }
      ]
    },
    {
      "cell_type": "code",
      "source": [
        "#pandas\n",
        "import pandas as pd\n",
        "data_list = [10, 20, 30, 40, 50]\n",
        "index_list = ['A', 'B', 'C', 'D', 'E']\n",
        "series_from_list = pd.Series(data_list, index=index_list)\n",
        "print(\"Series from List:\")\n",
        "print(series_from_list)\n",
        "print()\n",
        "data_dict = {'A': 10, 'B': 20, 'C': 30, 'D': 40, 'E': 50}\n",
        "series_from_dict = pd.Series(data_dict)\n",
        "print(\"Series from Dictionary:\")\n",
        "print(series_from_dict)\n"
      ],
      "metadata": {
        "colab": {
          "base_uri": "https://localhost:8080/"
        },
        "id": "vb7IQ82P7MdR",
        "outputId": "ed58220c-bb6b-4626-dff9-f2aaee911c32"
      },
      "execution_count": null,
      "outputs": [
        {
          "output_type": "stream",
          "name": "stdout",
          "text": [
            "Series from List:\n",
            "A    10\n",
            "B    20\n",
            "C    30\n",
            "D    40\n",
            "E    50\n",
            "dtype: int64\n",
            "\n",
            "Series from Dictionary:\n",
            "A    10\n",
            "B    20\n",
            "C    30\n",
            "D    40\n",
            "E    50\n",
            "dtype: int64\n"
          ]
        }
      ]
    },
    {
      "cell_type": "code",
      "source": [
        "import pandas as pd\n",
        "data = [10, 20, 30, 40, 50]\n",
        "index = ['A', 'B', 'C', 'D', 'E']\n",
        "series = pd.Series(data, index=index)\n",
        "element_A = series['A']\n",
        "print(\"Element at index 'A':\", element_A)\n",
        "elements_B_D = series[['B', 'D']]\n",
        "print(\"\\nElements at indices 'B' and 'D':\")\n",
        "print(elements_B_D)\n",
        "first_element = series.iloc[0]\n",
        "last_element = series.iloc[-1]\n",
        "print(\"\\nFirst element (position 0):\", first_element)\n",
        "print(\"Last element (position -1):\", last_element)\n"
      ],
      "metadata": {
        "colab": {
          "base_uri": "https://localhost:8080/"
        },
        "id": "VWmTb2PTB2af",
        "outputId": "83bad81a-52dc-4ea4-f300-dd45a6bb9704"
      },
      "execution_count": null,
      "outputs": [
        {
          "output_type": "stream",
          "name": "stdout",
          "text": [
            "Element at index 'A': 10\n",
            "\n",
            "Elements at indices 'B' and 'D':\n",
            "B    20\n",
            "D    40\n",
            "dtype: int64\n",
            "\n",
            "First element (position 0): 10\n",
            "Last element (position -1): 50\n"
          ]
        }
      ]
    },
    {
      "cell_type": "code",
      "source": [
        "import numpy as np\n",
        "original_array = np.array([1, 2, 3, 4, 5])\n",
        "value_to_add = 6\n",
        "new_array = np.append(original_array, value_to_add)\n",
        "print(\"Original Array:\", original_array)\n",
        "print(\"Array after adding value:\", new_array)\n"
      ],
      "metadata": {
        "colab": {
          "base_uri": "https://localhost:8080/"
        },
        "id": "n9AP0-tcIvfv",
        "outputId": "5ce1e612-feaa-4a09-86d1-edbeb3fc040e"
      },
      "execution_count": null,
      "outputs": [
        {
          "output_type": "stream",
          "name": "stdout",
          "text": [
            "Original Array: [1 2 3 4 5]\n",
            "Array after adding value: [1 2 3 4 5 6]\n"
          ]
        }
      ]
    },
    {
      "cell_type": "code",
      "source": [
        "import pandas as pd\n",
        "series1 = pd.Series([1, 2, 3, 4])\n",
        "series2 = pd.Series([5, 6, 7, 8])\n",
        "result_series = series1 + series2\n",
        "print(\"Series 1:\")\n",
        "print(series1)\n",
        "print(\"\\nSeries 2:\")\n",
        "print(series2)\n",
        "print(\"\\nResult of Adding Series 1 and Series 2:\")\n",
        "print(result_series)\n"
      ],
      "metadata": {
        "colab": {
          "base_uri": "https://localhost:8080/"
        },
        "id": "oudgqPhnKC7d",
        "outputId": "2973aece-9be0-4886-a6c6-7673a7396664"
      },
      "execution_count": null,
      "outputs": [
        {
          "output_type": "stream",
          "name": "stdout",
          "text": [
            "Series 1:\n",
            "0    1\n",
            "1    2\n",
            "2    3\n",
            "3    4\n",
            "dtype: int64\n",
            "\n",
            "Series 2:\n",
            "0    5\n",
            "1    6\n",
            "2    7\n",
            "3    8\n",
            "dtype: int64\n",
            "\n",
            "Result of Adding Series 1 and Series 2:\n",
            "0     6\n",
            "1     8\n",
            "2    10\n",
            "3    12\n",
            "dtype: int64\n"
          ]
        }
      ]
    },
    {
      "cell_type": "code",
      "source": [
        "import pandas as pd\n",
        "data_dict = {'A': 10, 'B': 20, 'C': 30, 'D': 40}\n",
        "series_from_dict = pd.Series(data_dict)\n",
        "print(series_from_dict)\n"
      ],
      "metadata": {
        "colab": {
          "base_uri": "https://localhost:8080/"
        },
        "id": "a0OXJFu4KLPB",
        "outputId": "7194a659-88ac-4952-be00-ca9fccc019df"
      },
      "execution_count": null,
      "outputs": [
        {
          "output_type": "stream",
          "name": "stdout",
          "text": [
            "A    10\n",
            "B    20\n",
            "C    30\n",
            "D    40\n",
            "dtype: int64\n"
          ]
        }
      ]
    },
    {
      "cell_type": "code",
      "source": [
        "import pandas as pd\n",
        "file_path = '/content/Sleep_health_and_lifestyle_dataset.csv'\n",
        "df = pd.read_csv(file_path)\n",
        "print(df)\n"
      ],
      "metadata": {
        "id": "ziU2FcwnMNSM",
        "colab": {
          "base_uri": "https://localhost:8080/"
        },
        "outputId": "2c327262-6300-4c98-8891-d94f802279a1"
      },
      "execution_count": null,
      "outputs": [
        {
          "output_type": "stream",
          "name": "stdout",
          "text": [
            "     Person ID  Gender  Age            Occupation  Sleep Duration  \\\n",
            "0            1    Male   27     Software Engineer             6.1   \n",
            "1            2    Male   28                Doctor             6.2   \n",
            "2            3    Male   28                Doctor             6.2   \n",
            "3            4    Male   28  Sales Representative             5.9   \n",
            "4            5    Male   28  Sales Representative             5.9   \n",
            "..         ...     ...  ...                   ...             ...   \n",
            "369        370  Female   59                 Nurse             8.1   \n",
            "370        371  Female   59                 Nurse             8.0   \n",
            "371        372  Female   59                 Nurse             8.1   \n",
            "372        373  Female   59                 Nurse             8.1   \n",
            "373        374  Female   59                 Nurse             8.1   \n",
            "\n",
            "     Quality of Sleep  Physical Activity Level  Stress Level BMI Category  \\\n",
            "0                   6                       42             6   Overweight   \n",
            "1                   6                       60             8       Normal   \n",
            "2                   6                       60             8       Normal   \n",
            "3                   4                       30             8        Obese   \n",
            "4                   4                       30             8        Obese   \n",
            "..                ...                      ...           ...          ...   \n",
            "369                 9                       75             3   Overweight   \n",
            "370                 9                       75             3   Overweight   \n",
            "371                 9                       75             3   Overweight   \n",
            "372                 9                       75             3   Overweight   \n",
            "373                 9                       75             3   Overweight   \n",
            "\n",
            "    Blood Pressure  Heart Rate  Daily Steps Sleep Disorder  \n",
            "0           126/83          77         4200            NaN  \n",
            "1           125/80          75        10000            NaN  \n",
            "2           125/80          75        10000            NaN  \n",
            "3           140/90          85         3000    Sleep Apnea  \n",
            "4           140/90          85         3000    Sleep Apnea  \n",
            "..             ...         ...          ...            ...  \n",
            "369         140/95          68         7000    Sleep Apnea  \n",
            "370         140/95          68         7000    Sleep Apnea  \n",
            "371         140/95          68         7000    Sleep Apnea  \n",
            "372         140/95          68         7000    Sleep Apnea  \n",
            "373         140/95          68         7000    Sleep Apnea  \n",
            "\n",
            "[374 rows x 13 columns]\n"
          ]
        }
      ]
    },
    {
      "cell_type": "code",
      "source": [
        "import pandas as pd\n",
        "data = {\n",
        "    'Name': ['ammu', 'appu', 'janu'],\n",
        "    'Age': [25, 30, 35,],\n",
        "    'City': ['New York', 'Los Angeles','japan']\n",
        "}\n",
        "df = pd.DataFrame(data)\n",
        "print(\"DataFrame Head:\")\n",
        "print(df.head())\n",
        "print(\"\\nDataFrame Tail:\")\n",
        "print(df.tail())\n",
        "print(\"\\nDataFrame Shape:\")\n",
        "print(df.shape)\n"
      ],
      "metadata": {
        "colab": {
          "base_uri": "https://localhost:8080/"
        },
        "id": "Lk0vumMMSulC",
        "outputId": "d054ef47-6e17-4b2f-a994-567c5bf093b3"
      },
      "execution_count": null,
      "outputs": [
        {
          "output_type": "stream",
          "name": "stdout",
          "text": [
            "DataFrame Head:\n",
            "   Name  Age         City\n",
            "0  ammu   25     New York\n",
            "1  appu   30  Los Angeles\n",
            "2  janu   35        japan\n",
            "\n",
            "DataFrame Tail:\n",
            "   Name  Age         City\n",
            "0  ammu   25     New York\n",
            "1  appu   30  Los Angeles\n",
            "2  janu   35        japan\n",
            "\n",
            "DataFrame Shape:\n",
            "(3, 3)\n"
          ]
        }
      ]
    },
    {
      "cell_type": "code",
      "source": [
        "df.describe()"
      ],
      "metadata": {
        "colab": {
          "base_uri": "https://localhost:8080/",
          "height": 300
        },
        "id": "T80oBh3NUJv3",
        "outputId": "a80d18c7-4593-4c3e-d5c2-37ca56be5931"
      },
      "execution_count": null,
      "outputs": [
        {
          "output_type": "execute_result",
          "data": {
            "text/plain": [
              "        Age\n",
              "count   3.0\n",
              "mean   30.0\n",
              "std     5.0\n",
              "min    25.0\n",
              "25%    27.5\n",
              "50%    30.0\n",
              "75%    32.5\n",
              "max    35.0"
            ],
            "text/html": [
              "\n",
              "  <div id=\"df-64d5c81e-3f1f-46a0-a777-75bd66d2e9ce\" class=\"colab-df-container\">\n",
              "    <div>\n",
              "<style scoped>\n",
              "    .dataframe tbody tr th:only-of-type {\n",
              "        vertical-align: middle;\n",
              "    }\n",
              "\n",
              "    .dataframe tbody tr th {\n",
              "        vertical-align: top;\n",
              "    }\n",
              "\n",
              "    .dataframe thead th {\n",
              "        text-align: right;\n",
              "    }\n",
              "</style>\n",
              "<table border=\"1\" class=\"dataframe\">\n",
              "  <thead>\n",
              "    <tr style=\"text-align: right;\">\n",
              "      <th></th>\n",
              "      <th>Age</th>\n",
              "    </tr>\n",
              "  </thead>\n",
              "  <tbody>\n",
              "    <tr>\n",
              "      <th>count</th>\n",
              "      <td>3.0</td>\n",
              "    </tr>\n",
              "    <tr>\n",
              "      <th>mean</th>\n",
              "      <td>30.0</td>\n",
              "    </tr>\n",
              "    <tr>\n",
              "      <th>std</th>\n",
              "      <td>5.0</td>\n",
              "    </tr>\n",
              "    <tr>\n",
              "      <th>min</th>\n",
              "      <td>25.0</td>\n",
              "    </tr>\n",
              "    <tr>\n",
              "      <th>25%</th>\n",
              "      <td>27.5</td>\n",
              "    </tr>\n",
              "    <tr>\n",
              "      <th>50%</th>\n",
              "      <td>30.0</td>\n",
              "    </tr>\n",
              "    <tr>\n",
              "      <th>75%</th>\n",
              "      <td>32.5</td>\n",
              "    </tr>\n",
              "    <tr>\n",
              "      <th>max</th>\n",
              "      <td>35.0</td>\n",
              "    </tr>\n",
              "  </tbody>\n",
              "</table>\n",
              "</div>\n",
              "    <div class=\"colab-df-buttons\">\n",
              "\n",
              "  <div class=\"colab-df-container\">\n",
              "    <button class=\"colab-df-convert\" onclick=\"convertToInteractive('df-64d5c81e-3f1f-46a0-a777-75bd66d2e9ce')\"\n",
              "            title=\"Convert this dataframe to an interactive table.\"\n",
              "            style=\"display:none;\">\n",
              "\n",
              "  <svg xmlns=\"http://www.w3.org/2000/svg\" height=\"24px\" viewBox=\"0 -960 960 960\">\n",
              "    <path d=\"M120-120v-720h720v720H120Zm60-500h600v-160H180v160Zm220 220h160v-160H400v160Zm0 220h160v-160H400v160ZM180-400h160v-160H180v160Zm440 0h160v-160H620v160ZM180-180h160v-160H180v160Zm440 0h160v-160H620v160Z\"/>\n",
              "  </svg>\n",
              "    </button>\n",
              "\n",
              "  <style>\n",
              "    .colab-df-container {\n",
              "      display:flex;\n",
              "      gap: 12px;\n",
              "    }\n",
              "\n",
              "    .colab-df-convert {\n",
              "      background-color: #E8F0FE;\n",
              "      border: none;\n",
              "      border-radius: 50%;\n",
              "      cursor: pointer;\n",
              "      display: none;\n",
              "      fill: #1967D2;\n",
              "      height: 32px;\n",
              "      padding: 0 0 0 0;\n",
              "      width: 32px;\n",
              "    }\n",
              "\n",
              "    .colab-df-convert:hover {\n",
              "      background-color: #E2EBFA;\n",
              "      box-shadow: 0px 1px 2px rgba(60, 64, 67, 0.3), 0px 1px 3px 1px rgba(60, 64, 67, 0.15);\n",
              "      fill: #174EA6;\n",
              "    }\n",
              "\n",
              "    .colab-df-buttons div {\n",
              "      margin-bottom: 4px;\n",
              "    }\n",
              "\n",
              "    [theme=dark] .colab-df-convert {\n",
              "      background-color: #3B4455;\n",
              "      fill: #D2E3FC;\n",
              "    }\n",
              "\n",
              "    [theme=dark] .colab-df-convert:hover {\n",
              "      background-color: #434B5C;\n",
              "      box-shadow: 0px 1px 3px 1px rgba(0, 0, 0, 0.15);\n",
              "      filter: drop-shadow(0px 1px 2px rgba(0, 0, 0, 0.3));\n",
              "      fill: #FFFFFF;\n",
              "    }\n",
              "  </style>\n",
              "\n",
              "    <script>\n",
              "      const buttonEl =\n",
              "        document.querySelector('#df-64d5c81e-3f1f-46a0-a777-75bd66d2e9ce button.colab-df-convert');\n",
              "      buttonEl.style.display =\n",
              "        google.colab.kernel.accessAllowed ? 'block' : 'none';\n",
              "\n",
              "      async function convertToInteractive(key) {\n",
              "        const element = document.querySelector('#df-64d5c81e-3f1f-46a0-a777-75bd66d2e9ce');\n",
              "        const dataTable =\n",
              "          await google.colab.kernel.invokeFunction('convertToInteractive',\n",
              "                                                    [key], {});\n",
              "        if (!dataTable) return;\n",
              "\n",
              "        const docLinkHtml = 'Like what you see? Visit the ' +\n",
              "          '<a target=\"_blank\" href=https://colab.research.google.com/notebooks/data_table.ipynb>data table notebook</a>'\n",
              "          + ' to learn more about interactive tables.';\n",
              "        element.innerHTML = '';\n",
              "        dataTable['output_type'] = 'display_data';\n",
              "        await google.colab.output.renderOutput(dataTable, element);\n",
              "        const docLink = document.createElement('div');\n",
              "        docLink.innerHTML = docLinkHtml;\n",
              "        element.appendChild(docLink);\n",
              "      }\n",
              "    </script>\n",
              "  </div>\n",
              "\n",
              "\n",
              "<div id=\"df-ff41316e-f0b3-460d-b411-2bb50faef762\">\n",
              "  <button class=\"colab-df-quickchart\" onclick=\"quickchart('df-ff41316e-f0b3-460d-b411-2bb50faef762')\"\n",
              "            title=\"Suggest charts\"\n",
              "            style=\"display:none;\">\n",
              "\n",
              "<svg xmlns=\"http://www.w3.org/2000/svg\" height=\"24px\"viewBox=\"0 0 24 24\"\n",
              "     width=\"24px\">\n",
              "    <g>\n",
              "        <path d=\"M19 3H5c-1.1 0-2 .9-2 2v14c0 1.1.9 2 2 2h14c1.1 0 2-.9 2-2V5c0-1.1-.9-2-2-2zM9 17H7v-7h2v7zm4 0h-2V7h2v10zm4 0h-2v-4h2v4z\"/>\n",
              "    </g>\n",
              "</svg>\n",
              "  </button>\n",
              "\n",
              "<style>\n",
              "  .colab-df-quickchart {\n",
              "      --bg-color: #E8F0FE;\n",
              "      --fill-color: #1967D2;\n",
              "      --hover-bg-color: #E2EBFA;\n",
              "      --hover-fill-color: #174EA6;\n",
              "      --disabled-fill-color: #AAA;\n",
              "      --disabled-bg-color: #DDD;\n",
              "  }\n",
              "\n",
              "  [theme=dark] .colab-df-quickchart {\n",
              "      --bg-color: #3B4455;\n",
              "      --fill-color: #D2E3FC;\n",
              "      --hover-bg-color: #434B5C;\n",
              "      --hover-fill-color: #FFFFFF;\n",
              "      --disabled-bg-color: #3B4455;\n",
              "      --disabled-fill-color: #666;\n",
              "  }\n",
              "\n",
              "  .colab-df-quickchart {\n",
              "    background-color: var(--bg-color);\n",
              "    border: none;\n",
              "    border-radius: 50%;\n",
              "    cursor: pointer;\n",
              "    display: none;\n",
              "    fill: var(--fill-color);\n",
              "    height: 32px;\n",
              "    padding: 0;\n",
              "    width: 32px;\n",
              "  }\n",
              "\n",
              "  .colab-df-quickchart:hover {\n",
              "    background-color: var(--hover-bg-color);\n",
              "    box-shadow: 0 1px 2px rgba(60, 64, 67, 0.3), 0 1px 3px 1px rgba(60, 64, 67, 0.15);\n",
              "    fill: var(--button-hover-fill-color);\n",
              "  }\n",
              "\n",
              "  .colab-df-quickchart-complete:disabled,\n",
              "  .colab-df-quickchart-complete:disabled:hover {\n",
              "    background-color: var(--disabled-bg-color);\n",
              "    fill: var(--disabled-fill-color);\n",
              "    box-shadow: none;\n",
              "  }\n",
              "\n",
              "  .colab-df-spinner {\n",
              "    border: 2px solid var(--fill-color);\n",
              "    border-color: transparent;\n",
              "    border-bottom-color: var(--fill-color);\n",
              "    animation:\n",
              "      spin 1s steps(1) infinite;\n",
              "  }\n",
              "\n",
              "  @keyframes spin {\n",
              "    0% {\n",
              "      border-color: transparent;\n",
              "      border-bottom-color: var(--fill-color);\n",
              "      border-left-color: var(--fill-color);\n",
              "    }\n",
              "    20% {\n",
              "      border-color: transparent;\n",
              "      border-left-color: var(--fill-color);\n",
              "      border-top-color: var(--fill-color);\n",
              "    }\n",
              "    30% {\n",
              "      border-color: transparent;\n",
              "      border-left-color: var(--fill-color);\n",
              "      border-top-color: var(--fill-color);\n",
              "      border-right-color: var(--fill-color);\n",
              "    }\n",
              "    40% {\n",
              "      border-color: transparent;\n",
              "      border-right-color: var(--fill-color);\n",
              "      border-top-color: var(--fill-color);\n",
              "    }\n",
              "    60% {\n",
              "      border-color: transparent;\n",
              "      border-right-color: var(--fill-color);\n",
              "    }\n",
              "    80% {\n",
              "      border-color: transparent;\n",
              "      border-right-color: var(--fill-color);\n",
              "      border-bottom-color: var(--fill-color);\n",
              "    }\n",
              "    90% {\n",
              "      border-color: transparent;\n",
              "      border-bottom-color: var(--fill-color);\n",
              "    }\n",
              "  }\n",
              "</style>\n",
              "\n",
              "  <script>\n",
              "    async function quickchart(key) {\n",
              "      const quickchartButtonEl =\n",
              "        document.querySelector('#' + key + ' button');\n",
              "      quickchartButtonEl.disabled = true;  // To prevent multiple clicks.\n",
              "      quickchartButtonEl.classList.add('colab-df-spinner');\n",
              "      try {\n",
              "        const charts = await google.colab.kernel.invokeFunction(\n",
              "            'suggestCharts', [key], {});\n",
              "      } catch (error) {\n",
              "        console.error('Error during call to suggestCharts:', error);\n",
              "      }\n",
              "      quickchartButtonEl.classList.remove('colab-df-spinner');\n",
              "      quickchartButtonEl.classList.add('colab-df-quickchart-complete');\n",
              "    }\n",
              "    (() => {\n",
              "      let quickchartButtonEl =\n",
              "        document.querySelector('#df-ff41316e-f0b3-460d-b411-2bb50faef762 button');\n",
              "      quickchartButtonEl.style.display =\n",
              "        google.colab.kernel.accessAllowed ? 'block' : 'none';\n",
              "    })();\n",
              "  </script>\n",
              "</div>\n",
              "\n",
              "    </div>\n",
              "  </div>\n"
            ],
            "application/vnd.google.colaboratory.intrinsic+json": {
              "type": "dataframe",
              "summary": "{\n  \"name\": \"df\",\n  \"rows\": 8,\n  \"fields\": [\n    {\n      \"column\": \"Age\",\n      \"properties\": {\n        \"dtype\": \"number\",\n        \"std\": 12.412551251512664,\n        \"min\": 3.0,\n        \"max\": 35.0,\n        \"num_unique_values\": 7,\n        \"samples\": [\n          3.0,\n          30.0,\n          32.5\n        ],\n        \"semantic_type\": \"\",\n        \"description\": \"\"\n      }\n    }\n  ]\n}"
            }
          },
          "metadata": {},
          "execution_count": 14
        }
      ]
    },
    {
      "cell_type": "code",
      "source": [
        "import pandas as pd\n",
        "\n",
        "data = {\n",
        "    'Name': ['ammu', 'appu', 'janu'],\n",
        "    'Age': [25, 30, 35,],\n",
        "    'City': ['New York', 'Los Angeles','japan']\n",
        "}\n",
        "df = pd.DataFrame(data)\n",
        "print(\"Filtered using loc:\")\n",
        "print(df.loc[df['Age'] >= 35])\n",
        "print()\n",
        "print(\"Filtered using iloc:\")\n",
        "print(df.iloc[1:3])\n"
      ],
      "metadata": {
        "colab": {
          "base_uri": "https://localhost:8080/"
        },
        "id": "PyJU-l0FV5mn",
        "outputId": "66b4feeb-6b17-4bc2-c2e8-f07dbd617b9b"
      },
      "execution_count": null,
      "outputs": [
        {
          "output_type": "stream",
          "name": "stdout",
          "text": [
            "Filtered using loc:\n",
            "   Name  Age   City\n",
            "2  janu   35  japan\n",
            "\n",
            "Filtered using iloc:\n",
            "   Name  Age         City\n",
            "1  appu   30  Los Angeles\n",
            "2  janu   35        japan\n"
          ]
        }
      ]
    },
    {
      "cell_type": "code",
      "source": [
        "import pandas as pd\n",
        "data = {\n",
        "    'Name': [ 'ammu', 'appu', 'jaanu'],\n",
        "    'Age': [25, 30, 35],\n",
        "    'City': ['New York', 'Los Angeles', 'japan']\n",
        "}\n",
        "df = pd.DataFrame(data)\n",
        "df = df.drop(2)\n",
        "df = df.drop(columns='Age')\n",
        "print(df)\n"
      ],
      "metadata": {
        "colab": {
          "base_uri": "https://localhost:8080/"
        },
        "id": "4Pcp2F8UY21u",
        "outputId": "25d05062-98d6-41df-cd16-ee7f00b508ca"
      },
      "execution_count": null,
      "outputs": [
        {
          "output_type": "stream",
          "name": "stdout",
          "text": [
            "   Name         City\n",
            "0  ammu     New York\n",
            "1  appu  Los Angeles\n"
          ]
        }
      ]
    },
    {
      "cell_type": "code",
      "source": [
        "import pandas as pd\n",
        "data = {\n",
        "    'Name': ['ammu', 'appu', 'janu'],\n",
        "    'Age': [25, 30, 35,],\n",
        "    'City': ['New York', 'Los Angeles','japan']\n",
        "}\n",
        "df = pd.DataFrame(data)\n",
        "statistics = df.describe()\n",
        "print(statistics.loc[['mean', '50%', 'std']])\n"
      ],
      "metadata": {
        "colab": {
          "base_uri": "https://localhost:8080/"
        },
        "id": "KKirqzkiaGBY",
        "outputId": "877a1922-1d9f-411e-936e-6c7861ea93f0"
      },
      "execution_count": null,
      "outputs": [
        {
          "output_type": "stream",
          "name": "stdout",
          "text": [
            "       Age\n",
            "mean  30.0\n",
            "50%   30.0\n",
            "std    5.0\n"
          ]
        }
      ]
    },
    {
      "cell_type": "code",
      "source": [
        "import pandas as pd\n",
        "data = {\n",
        "    'Name': ['ammu', 'appu', 'janu'],\n",
        "    'Age': [25, 30, 35,],\n",
        "    'City': ['New York', 'Los Angeles','japan']\n",
        "}\n",
        "df = pd.DataFrame(data)\n",
        "df.sort_values(by='Age', inplace=True)\n",
        "print(df)\n"
      ],
      "metadata": {
        "colab": {
          "base_uri": "https://localhost:8080/"
        },
        "id": "0P1Du8qVexn_",
        "outputId": "f1b77bf6-0b23-4bfc-8971-063dd6e79aed"
      },
      "execution_count": null,
      "outputs": [
        {
          "output_type": "stream",
          "name": "stdout",
          "text": [
            "   Name  Age         City\n",
            "0  ammu   25     New York\n",
            "1  appu   30  Los Angeles\n",
            "2  janu   35        japan\n"
          ]
        }
      ]
    },
    {
      "cell_type": "code",
      "source": [
        "import pandas as pd\n",
        "import numpy as np\n",
        "data = {\n",
        "    'Name': ['ammu', 'appu', 'janu'],\n",
        "    'Age': [25,np.nan, 35,],\n",
        "    'City': ['New York', 'Los Angeles','japan']\n",
        "}\n",
        "df = pd.DataFrame(data)\n",
        "df_cleaned = df.dropna()\n",
        "print(df_cleaned)\n"
      ],
      "metadata": {
        "colab": {
          "base_uri": "https://localhost:8080/"
        },
        "id": "WNGIkvVsghOC",
        "outputId": "7a37ff79-513e-4920-e09d-15cb4835dcd7"
      },
      "execution_count": null,
      "outputs": [
        {
          "output_type": "stream",
          "name": "stdout",
          "text": [
            "   Name   Age      City\n",
            "0  ammu  25.0  New York\n",
            "2  janu  35.0     japan\n"
          ]
        }
      ]
    },
    {
      "cell_type": "code",
      "source": [
        "mean_age = df['Age'].mean()\n",
        "df['Age'].fillna(mean_age, inplace=True)\n",
        "print(df)"
      ],
      "metadata": {
        "colab": {
          "base_uri": "https://localhost:8080/"
        },
        "id": "SR0v-1N3hxtW",
        "outputId": "161a4977-f87d-4a76-b599-b16c647de6e8"
      },
      "execution_count": null,
      "outputs": [
        {
          "output_type": "stream",
          "name": "stdout",
          "text": [
            "   Name   Age         City\n",
            "0  ammu  25.0     New York\n",
            "1  appu  30.0  Los Angeles\n",
            "2  janu  35.0        japan\n"
          ]
        }
      ]
    },
    {
      "cell_type": "code",
      "source": [
        "#matplotlib\n",
        "import pandas as pd\n",
        "import matplotlib.pyplot as plt\n",
        "data = {\n",
        "    'PatientID': [1, 2, 3, 4, 5],\n",
        "    'Age': [25, 30, 35, 40, 45],\n",
        "    'City': ['New York', 'Los Angeles', 'Chicago', 'Houston', 'Phoenix']\n",
        "}\n",
        "\n",
        "df = pd.DataFrame(data)\n",
        "plt.plot(df['PatientID'], df['Age'], marker='o', linestyle='-', color='b', label='Age')\n",
        "plt.xlabel('Patient ID')\n",
        "plt.ylabel('Age')\n",
        "plt.title('Patients Age by ID')\n",
        "plt.legend()\n",
        "plt.show()\n"
      ],
      "metadata": {
        "colab": {
          "base_uri": "https://localhost:8080/",
          "height": 472
        },
        "id": "ZOOpvvG3i5W9",
        "outputId": "47a76ac3-b6e6-4cd8-c69b-9ec5390e9e3a"
      },
      "execution_count": null,
      "outputs": [
        {
          "output_type": "display_data",
          "data": {
            "text/plain": [
              "<Figure size 640x480 with 1 Axes>"
            ],
            "image/png": "[encoded data removed]"
          },
          "metadata": {}
        }
      ]
    },
    {
      "cell_type": "code",
      "source": [
        "import matplotlib.pyplot as plt\n",
        "fig, (ax1, ax2) = plt.subplots(1, 2, figsize=(10, 4))\n",
        "ax1.plot([1, 2, 3, 4, 5], [10, 20, 15, 25, 30], 'bo-')\n",
        "ax1.set_xlabel('X-axis')\n",
        "ax1.set_ylabel('Y-axis')\n",
        "ax1.set_title('Line Plot')\n",
        "ax2.bar([1, 2, 3, 4, 5], [10, 20, 15, 25, 30], color='g')\n",
        "ax2.set_xlabel('X-axis')\n",
        "ax2.set_ylabel('Y-axis')\n",
        "ax2.set_title('Bar Plot')\n",
        "plt.tight_layout()\n",
        "plt.show()\n"
      ],
      "metadata": {
        "colab": {
          "base_uri": "https://localhost:8080/",
          "height": 388
        },
        "id": "_uyyATwVl3x8",
        "outputId": "b93e0f7c-61cc-4189-aad4-11ed70c9c51c"
      },
      "execution_count": null,
      "outputs": [
        {
          "output_type": "display_data",
          "data": {
            "text/plain": [
              "<Figure size 1000x400 with 2 Axes>"
            ],
            "image/png": "[encoded data removed]"
          },
          "metadata": {}
        }
      ]
    },
    {
      "cell_type": "code",
      "source": [
        "import matplotlib.pyplot as plt\n",
        "import numpy as np\n",
        "x = ['A', 'B', 'C', 'D', 'E']\n",
        "y = [10, 15, 7, 10, 12]\n",
        "data = np.random.normal(0, 1, 100)\n",
        "x_scatter = np.random.rand(50)\n",
        "y_scatter = np.random.rand(50)\n",
        "plt.figure(figsize=(12, 4))\n",
        "plt.subplot(1, 3, 1)\n",
        "plt.bar(x, y, color='skyblue')\n",
        "plt.xlabel('Categories')\n",
        "plt.ylabel('Values')\n",
        "plt.title('Bar Chart')\n",
        "\n",
        "\n",
        "plt.subplot(1, 3, 2)\n",
        "plt.hist(data, bins=20, color='salmon', edgecolor='black')\n",
        "plt.xlabel('Value')\n",
        "plt.ylabel('Frequency')\n",
        "plt.title('Histogram')\n",
        "\n",
        "plt.subplot(1, 3, 3)\n",
        "plt.scatter(x_scatter, y_scatter, color='green', alpha=0.5)\n",
        "plt.xlabel('X-axis')\n",
        "plt.ylabel('Y-axis')\n",
        "plt.title('Scatter Plot')\n",
        "\n",
        "plt.tight_layout()\n",
        "plt.show()\n"
      ],
      "metadata": {
        "colab": {
          "base_uri": "https://localhost:8080/",
          "height": 326
        },
        "id": "0yyQx5lKmB1T",
        "outputId": "c99cedd2-b09b-420c-e4b3-9df1f681deba"
      },
      "execution_count": null,
      "outputs": [
        {
          "output_type": "display_data",
          "data": {
            "text/plain": [
              "<Figure size 1200x400 with 3 Axes>"
            ],
            "image/png": "[encoded data removed]"
          },
          "metadata": {}
        }
      ]
    },
    {
      "cell_type": "code",
      "source": [
        "import matplotlib.pyplot as plt\n",
        "import numpy as np\n",
        "x = ['A', 'B', 'C', 'D', 'E']\n",
        "y = [10, 15, 7, 10, 12]\n",
        "data = np.random.normal(0, 1, 100)\n",
        "x_scatter = np.random.rand(50)\n",
        "y_scatter = np.random.rand(50)\n",
        "\n",
        "mu, sigma = 0, 1\n",
        "nd_data = np.random.normal(mu, sigma, 1000)\n",
        "plt.figure(figsize=(12, 4))\n",
        "\n",
        "plt.subplot(1, 4, 1)\n",
        "plt.bar(x, y, color='skyblue')\n",
        "plt.xlabel('Categories')\n",
        "plt.ylabel('Values')\n",
        "plt.title('Bar Chart')\n",
        "\n",
        "\n",
        "plt.subplot(1, 4, 2)\n",
        "plt.hist(data, bins=20, color='salmon', edgecolor='black')\n",
        "plt.xlabel('Value')\n",
        "plt.ylabel('Frequency')\n",
        "plt.title('Histogram')\n",
        "\n",
        "plt.subplot(1, 4, 3)\n",
        "plt.scatter(x_scatter, y_scatter, color='green', alpha=0.5)\n",
        "plt.xlabel('X-axis')\n",
        "plt.ylabel('Y-axis')\n",
        "plt.title('Scatter Plot')\n",
        "\n",
        "\n",
        "plt.subplot(1, 4, 4)\n",
        "plt.hist(nd_data, bins=30, density=True, color='skyblue', edgecolor='black', alpha=0.7)\n",
        "\n",
        "xmin, xmax = plt.xlim()\n",
        "x_axis = np.linspace(xmin, xmax, 100)\n",
        "p = 1/(sigma * np.sqrt(2 * np.pi)) * np.exp(-(x_axis - mu)**2 / (2 * sigma**2))\n",
        "plt.plot(x_axis, p, color='red', linewidth=2)\n",
        "\n",
        "plt.xlabel('Value')\n",
        "plt.ylabel('Density')\n",
        "plt.title('Normal Distribution')\n",
        "\n",
        "plt.tight_layout()\n",
        "plt.show()\n"
      ],
      "metadata": {
        "colab": {
          "base_uri": "https://localhost:8080/",
          "height": 326
        },
        "id": "pDm_DDNQm6OL",
        "outputId": "e199d3b8-2695-4b43-fc6b-9c26e6c563eb"
      },
      "execution_count": null,
      "outputs": [
        {
          "output_type": "display_data",
          "data": {
            "text/plain": [
              "<Figure size 1200x400 with 4 Axes>"
            ],
            "image/png": "[encoded data removed]"
          },
          "metadata": {}
        }
      ]
    },
    {
      "cell_type": "code",
      "source": [],
      "metadata": {
        "id": "2EjDPpHlpYKW"
      },
      "execution_count": null,
      "outputs": []
    }
  ]
}